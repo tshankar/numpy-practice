{
  "nbformat": 4,
  "nbformat_minor": 0,
  "metadata": {
    "colab": {
      "provenance": [],
      "include_colab_link": true
    },
    "kernelspec": {
      "name": "python3",
      "display_name": "Python 3"
    },
    "language_info": {
      "name": "python"
    }
  },
  "cells": [
    {
      "cell_type": "markdown",
      "metadata": {
        "id": "view-in-github",
        "colab_type": "text"
      },
      "source": [
        "<a href=\"https://colab.research.google.com/github/tshankar/numpy-practice/blob/main/love_distance.ipynb\" target=\"_parent\"><img src=\"https://colab.research.google.com/assets/colab-badge.svg\" alt=\"Open In Colab\"/></a>"
      ]
    },
    {
      "cell_type": "markdown",
      "source": [
        "[![PracticeProbs](https://d33wubrfki0l68.cloudfront.net/b6800cc830e3fd5a3a4c3d9cfb1137e6a4c15c77/ec467/assets/images/transparent-1.png)](https://www.practiceprobs.com/)"
      ],
      "metadata": {
        "id": "t1VEtnSjbu-d"
      }
    },
    {
      "cell_type": "markdown",
      "source": [
        "# [Love Distance](https://www.practiceprobs.com/problemsets/python-numpy/intermediate/love-distance/)\n",
        "\n",
        "You’re a relationship scientist, and you’ve developed a questionnaire that determines a person’s *love score* - a real-valued number between 0 and 100. Your theory is that two people with similar love scores should make a good match 👩‍❤️‍💋‍👨\n",
        "\n",
        "Given the love scores for 10 different people, create a 2-d array where (i,j) gives the absolute difference of the love scores for person i and person j."
      ],
      "metadata": {
        "id": "M6yShpelZy-I"
      }
    },
    {
      "cell_type": "code",
      "source": [
        "import numpy as np\n",
        "np.set_printoptions(linewidth=100000)\n",
        "\n",
        "generator = np.random.default_rng(1010)\n",
        "love_scores = np.round(generator.uniform(low=0, high=100, size=10), 2)\n",
        "\n",
        "print(love_scores)\n",
        "# [ 9.5  53.58 91.77 98.15 84.88 74.61 40.94 56.49  8.39 64.69]"
      ],
      "metadata": {
        "id": "ZlHN2R3QaPX3",
        "outputId": "ff42b24f-b660-44ce-b7fe-8c9f57f9e0c5",
        "colab": {
          "base_uri": "https://localhost:8080/"
        }
      },
      "execution_count": 1,
      "outputs": [
        {
          "output_type": "stream",
          "name": "stdout",
          "text": [
            "[ 9.5  53.58 91.77 98.15 84.88 74.61 40.94 56.49  8.39 64.69]\n"
          ]
        }
      ]
    },
    {
      "cell_type": "markdown",
      "source": [
        "---"
      ],
      "metadata": {
        "id": "h7D8d-J5cela"
      }
    },
    {
      "cell_type": "code",
      "source": [
        "# Your brilliant solution here!\n",
        "coords_1, coords_2 = np.meshgrid(love_scores, love_scores)\n",
        "matches = np.abs(coords_2 - coords_1)\n",
        "matches"
      ],
      "metadata": {
        "id": "CWwTWfYCa4k0",
        "outputId": "ac0fb7a4-6d3b-43e0-b3c0-15c989d12d57",
        "colab": {
          "base_uri": "https://localhost:8080/"
        }
      },
      "execution_count": 2,
      "outputs": [
        {
          "output_type": "execute_result",
          "data": {
            "text/plain": [
              "array([[ 0.  , 44.08, 82.27, 88.65, 75.38, 65.11, 31.44, 46.99,  1.11, 55.19],\n",
              "       [44.08,  0.  , 38.19, 44.57, 31.3 , 21.03, 12.64,  2.91, 45.19, 11.11],\n",
              "       [82.27, 38.19,  0.  ,  6.38,  6.89, 17.16, 50.83, 35.28, 83.38, 27.08],\n",
              "       [88.65, 44.57,  6.38,  0.  , 13.27, 23.54, 57.21, 41.66, 89.76, 33.46],\n",
              "       [75.38, 31.3 ,  6.89, 13.27,  0.  , 10.27, 43.94, 28.39, 76.49, 20.19],\n",
              "       [65.11, 21.03, 17.16, 23.54, 10.27,  0.  , 33.67, 18.12, 66.22,  9.92],\n",
              "       [31.44, 12.64, 50.83, 57.21, 43.94, 33.67,  0.  , 15.55, 32.55, 23.75],\n",
              "       [46.99,  2.91, 35.28, 41.66, 28.39, 18.12, 15.55,  0.  , 48.1 ,  8.2 ],\n",
              "       [ 1.11, 45.19, 83.38, 89.76, 76.49, 66.22, 32.55, 48.1 ,  0.  , 56.3 ],\n",
              "       [55.19, 11.11, 27.08, 33.46, 20.19,  9.92, 23.75,  8.2 , 56.3 ,  0.  ]])"
            ]
          },
          "metadata": {},
          "execution_count": 2
        }
      ]
    },
    {
      "cell_type": "markdown",
      "source": [
        "## [See our solution!](https://www.practiceprobs.com/problemsets/python-numpy/intermediate/love-distance/solution/)"
      ],
      "metadata": {
        "id": "bF3kvEc4a4It"
      }
    },
    {
      "cell_type": "code",
      "source": [
        "# Their solution\n",
        "col = love_scores.reshape(-1, 1)\n",
        "col - love_scores # This uses numpy broadcasting to subtract every row of love_scores from each value in love_scores (values are in the col vector)\n",
        "\n",
        "# It's not intuitive to be able to subtract an array from a value, but I suppose this is the power of numpy broadcasting"
      ],
      "metadata": {
        "id": "h1mFuS2YGHb5",
        "outputId": "463a058e-9713-4047-9055-d4fde0c224f2",
        "colab": {
          "base_uri": "https://localhost:8080/"
        }
      },
      "execution_count": 3,
      "outputs": [
        {
          "output_type": "execute_result",
          "data": {
            "text/plain": [
              "array([[  0.  , -44.08, -82.27, -88.65, -75.38, -65.11, -31.44, -46.99,   1.11, -55.19],\n",
              "       [ 44.08,   0.  , -38.19, -44.57, -31.3 , -21.03,  12.64,  -2.91,  45.19, -11.11],\n",
              "       [ 82.27,  38.19,   0.  ,  -6.38,   6.89,  17.16,  50.83,  35.28,  83.38,  27.08],\n",
              "       [ 88.65,  44.57,   6.38,   0.  ,  13.27,  23.54,  57.21,  41.66,  89.76,  33.46],\n",
              "       [ 75.38,  31.3 ,  -6.89, -13.27,   0.  ,  10.27,  43.94,  28.39,  76.49,  20.19],\n",
              "       [ 65.11,  21.03, -17.16, -23.54, -10.27,   0.  ,  33.67,  18.12,  66.22,   9.92],\n",
              "       [ 31.44, -12.64, -50.83, -57.21, -43.94, -33.67,   0.  , -15.55,  32.55, -23.75],\n",
              "       [ 46.99,   2.91, -35.28, -41.66, -28.39, -18.12,  15.55,   0.  ,  48.1 ,  -8.2 ],\n",
              "       [ -1.11, -45.19, -83.38, -89.76, -76.49, -66.22, -32.55, -48.1 ,   0.  , -56.3 ],\n",
              "       [ 55.19,  11.11, -27.08, -33.46, -20.19,  -9.92,  23.75,   8.2 ,  56.3 ,   0.  ]])"
            ]
          },
          "metadata": {},
          "execution_count": 3
        }
      ]
    },
    {
      "cell_type": "code",
      "source": [],
      "metadata": {
        "id": "A3Pw_Uf_G3t2"
      },
      "execution_count": null,
      "outputs": []
    }
  ]
}