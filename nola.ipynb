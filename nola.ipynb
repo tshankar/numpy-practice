{
  "nbformat": 4,
  "nbformat_minor": 0,
  "metadata": {
    "colab": {
      "provenance": [],
      "include_colab_link": true
    },
    "kernelspec": {
      "name": "python3",
      "display_name": "Python 3"
    },
    "language_info": {
      "name": "python"
    }
  },
  "cells": [
    {
      "cell_type": "markdown",
      "metadata": {
        "id": "view-in-github",
        "colab_type": "text"
      },
      "source": [
        "<a href=\"https://colab.research.google.com/github/tshankar/numpy-practice/blob/main/nola.ipynb\" target=\"_parent\"><img src=\"https://colab.research.google.com/assets/colab-badge.svg\" alt=\"Open In Colab\"/></a>"
      ]
    },
    {
      "cell_type": "markdown",
      "source": [
        "[![PracticeProbs](https://d33wubrfki0l68.cloudfront.net/b6800cc830e3fd5a3a4c3d9cfb1137e6a4c15c77/ec467/assets/images/transparent-1.png)](https://www.practiceprobs.com/)"
      ],
      "metadata": {
        "id": "t1VEtnSjbu-d"
      }
    },
    {
      "cell_type": "markdown",
      "source": [
        "# [Nola](https://www.practiceprobs.com/problemsets/python-numpy/beginner/nola/)\n",
        "\n",
        "Make the following 4x7 array called nola that starts with 1 and steps by 2. However, note that the first element in each row is always 4 more than the last element in the previous row.\n",
        "\n",
        "```\n",
        "# nola\n",
        "[[ 1  3  5  7  9 11 13]\n",
        " [17 19 21 23 25 27 29]\n",
        " [33 35 37 39 41 43 45]\n",
        " [49 51 53 55 57 59 61]]\n",
        "```"
      ],
      "metadata": {
        "id": "M6yShpelZy-I"
      }
    },
    {
      "cell_type": "markdown",
      "source": [
        "---"
      ],
      "metadata": {
        "id": "h7D8d-J5cela"
      }
    },
    {
      "cell_type": "code",
      "source": [
        "# Your brilliant solution here!\n",
        "import numpy as np\n",
        "\n",
        "nola = np.vstack ((\n",
        "    np.arange(1, 14, 2),\n",
        "    np.arange(17, 30, 2),\n",
        "    np.arange(33, 46, 2),\n",
        "    np.arange(49, 62, 2)\n",
        "))\n"
      ],
      "metadata": {
        "id": "CWwTWfYCa4k0"
      },
      "execution_count": 12,
      "outputs": []
    },
    {
      "cell_type": "code",
      "source": [
        "# Their solution\n",
        "nola = np.arange(1, 64, 2).reshape(4, 8)\n",
        "nola = nola[:, :-1]\n",
        "\n",
        "# This is is different from [:, :, -1] which implies a 3 dimensional array (get everything in axis 1, everything in axis 2, and the last column in axis 3)"
      ],
      "metadata": {
        "id": "W_B6PSB94HMN"
      },
      "execution_count": 16,
      "outputs": []
    },
    {
      "cell_type": "markdown",
      "source": [
        "## [See our solution!](https://www.practiceprobs.com/problemsets/python-numpy/beginner/nola/solution/)"
      ],
      "metadata": {
        "id": "bF3kvEc4a4It"
      }
    }
  ]
}