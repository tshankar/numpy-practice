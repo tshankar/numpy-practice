{
  "nbformat": 4,
  "nbformat_minor": 0,
  "metadata": {
    "colab": {
      "provenance": [],
      "include_colab_link": true
    },
    "kernelspec": {
      "name": "python3",
      "display_name": "Python 3"
    },
    "language_info": {
      "name": "python"
    }
  },
  "cells": [
    {
      "cell_type": "markdown",
      "metadata": {
        "id": "view-in-github",
        "colab_type": "text"
      },
      "source": [
        "<a href=\"https://colab.research.google.com/github/tshankar/numpy-practice/blob/main/psycho_parent.ipynb\" target=\"_parent\"><img src=\"https://colab.research.google.com/assets/colab-badge.svg\" alt=\"Open In Colab\"/></a>"
      ]
    },
    {
      "cell_type": "markdown",
      "source": [
        "[![PracticeProbs](https://d33wubrfki0l68.cloudfront.net/b6800cc830e3fd5a3a4c3d9cfb1137e6a4c15c77/ec467/assets/images/transparent-1.png)](https://www.practiceprobs.com/)"
      ],
      "metadata": {
        "id": "t1VEtnSjbu-d"
      }
    },
    {
      "cell_type": "markdown",
      "source": [
        "# [Pyscho Parent](https://www.practiceprobs.com/problemsets/python-numpy/intermediate/psycho-parent/)\n",
        "\n",
        "Eager to make your mark on the PTA, you decide the best way to hide eggs for the upcoming Easter egg hunt is to use NumPy . You represent the field as a 10x10 array of 0s."
      ],
      "metadata": {
        "id": "M6yShpelZy-I"
      }
    },
    {
      "cell_type": "code",
      "source": [
        "import numpy as np\n",
        "\n",
        "field = np.zeros(shape = (10, 10))\n",
        "\n",
        "print(field)\n",
        "# [[0. 0. 0. 0. 0. 0. 0. 0. 0. 0.]\n",
        "#  [0. 0. 0. 0. 0. 0. 0. 0. 0. 0.]\n",
        "#  [0. 0. 0. 0. 0. 0. 0. 0. 0. 0.]\n",
        "#  [0. 0. 0. 0. 0. 0. 0. 0. 0. 0.]\n",
        "#  [0. 0. 0. 0. 0. 0. 0. 0. 0. 0.]\n",
        "#  [0. 0. 0. 0. 0. 0. 0. 0. 0. 0.]\n",
        "#  [0. 0. 0. 0. 0. 0. 0. 0. 0. 0.]\n",
        "#  [0. 0. 0. 0. 0. 0. 0. 0. 0. 0.]\n",
        "#  [0. 0. 0. 0. 0. 0. 0. 0. 0. 0.]\n",
        "#  [0. 0. 0. 0. 0. 0. 0. 0. 0. 0.]]"
      ],
      "metadata": {
        "id": "ZlHN2R3QaPX3",
        "outputId": "8de4f05e-2074-481e-e839-d5c6b704d461",
        "colab": {
          "base_uri": "https://localhost:8080/"
        }
      },
      "execution_count": 1,
      "outputs": [
        {
          "output_type": "stream",
          "name": "stdout",
          "text": [
            "[[0. 0. 0. 0. 0. 0. 0. 0. 0. 0.]\n",
            " [0. 0. 0. 0. 0. 0. 0. 0. 0. 0.]\n",
            " [0. 0. 0. 0. 0. 0. 0. 0. 0. 0.]\n",
            " [0. 0. 0. 0. 0. 0. 0. 0. 0. 0.]\n",
            " [0. 0. 0. 0. 0. 0. 0. 0. 0. 0.]\n",
            " [0. 0. 0. 0. 0. 0. 0. 0. 0. 0.]\n",
            " [0. 0. 0. 0. 0. 0. 0. 0. 0. 0.]\n",
            " [0. 0. 0. 0. 0. 0. 0. 0. 0. 0.]\n",
            " [0. 0. 0. 0. 0. 0. 0. 0. 0. 0.]\n",
            " [0. 0. 0. 0. 0. 0. 0. 0. 0. 0.]]\n"
          ]
        }
      ]
    },
    {
      "cell_type": "markdown",
      "source": [
        "Insert 20 random normal values at random (non repeating) locations in the grid. Then you'll know how much candy to hide at each spot."
      ],
      "metadata": {
        "id": "T-lElEsKg-51"
      }
    },
    {
      "cell_type": "markdown",
      "source": [
        "---"
      ],
      "metadata": {
        "id": "h7D8d-J5cela"
      }
    },
    {
      "cell_type": "code",
      "source": [
        "# Your brilliant solution here!\n",
        "\n",
        "# Get 20 random normal values in an array\n",
        "vals = np.random.randn(20)\n",
        "\n",
        "# Get 20 random numbers between 1 and 100 non repeating\n",
        "locs = np.random.choice(np.arange(100), size=20, replace=False, p=None) # Array of shape (20,)\n",
        "field = field.reshape(1, -1) # Array of shape (1, 100)\n",
        "\n",
        "# This says \"Look at row 0 and set the values in the columns specified by the numbers in locs\".\n",
        "# We need this because field is a two dimensional array, where all the elements are in row 0\n",
        "field[0, locs] = vals\n",
        "field = field.reshape(10, 10)\n",
        "field"
      ],
      "metadata": {
        "id": "CWwTWfYCa4k0",
        "outputId": "628616f6-681f-4edf-b758-6909a7c3ef95",
        "colab": {
          "base_uri": "https://localhost:8080/"
        }
      },
      "execution_count": 14,
      "outputs": [
        {
          "output_type": "execute_result",
          "data": {
            "text/plain": [
              "array([[ 0.93151071,  0.        ,  0.5680783 ,  0.        ,  0.12450238,\n",
              "         0.69456214,  0.        , -2.44608725,  1.63179688,  0.24936591],\n",
              "       [ 1.32345993,  0.        ,  0.        ,  0.92522712,  0.        ,\n",
              "         0.        ,  0.        , -0.01226578,  0.        ,  0.58168681],\n",
              "       [ 0.        ,  2.49857089,  0.        , -1.10677138, -0.50980748,\n",
              "        -2.88477052,  0.        ,  0.        ,  0.        ,  0.        ],\n",
              "       [ 0.        ,  0.        ,  0.        , -0.25584222, -0.2546681 ,\n",
              "         0.        , -1.09528028,  0.        ,  0.        ,  1.50461813],\n",
              "       [-0.66539701,  0.15585237,  0.        ,  0.        ,  0.        ,\n",
              "         0.        ,  0.        , -0.37684106,  1.16149305,  1.006292  ],\n",
              "       [ 0.        , -0.34041755,  0.29506869, -0.10127136,  1.50846907,\n",
              "        -0.40112182,  0.98896097,  0.055799  ,  0.        , -0.3223298 ],\n",
              "       [-0.0712444 ,  0.        ,  1.95287944, -0.216158  ,  1.58828835,\n",
              "         0.30473777,  0.36434626, -0.57937293,  1.19785303, -0.48484888],\n",
              "       [ 0.89280865,  2.86450343,  0.        ,  0.        ,  0.        ,\n",
              "         0.        ,  0.        ,  0.        , -2.80339275,  0.        ],\n",
              "       [ 0.62270506,  0.        ,  0.        , -0.41958277,  0.        ,\n",
              "         0.        ,  1.41876826,  0.        ,  0.        ,  0.        ],\n",
              "       [ 1.43711446,  1.36759295,  0.15646079, -0.48187369, -1.95072936,\n",
              "        -0.23834911, -0.47005042,  2.01573047,  1.02143044,  0.        ]])"
            ]
          },
          "metadata": {},
          "execution_count": 14
        }
      ]
    },
    {
      "cell_type": "markdown",
      "source": [
        "## [See our solution!](https://www.practiceprobs.com/problemsets/python-numpy/intermediate/psycho-parent/solution/)"
      ],
      "metadata": {
        "id": "bF3kvEc4a4It"
      }
    },
    {
      "cell_type": "code",
      "source": [
        "field.ravel().shape"
      ],
      "metadata": {
        "id": "Jw9DanePQJl-",
        "outputId": "12963f1c-6021-4daf-b809-01bb884a395e",
        "colab": {
          "base_uri": "https://localhost:8080/"
        }
      },
      "execution_count": 16,
      "outputs": [
        {
          "output_type": "execute_result",
          "data": {
            "text/plain": [
              "(100,)"
            ]
          },
          "metadata": {},
          "execution_count": 16
        }
      ]
    },
    {
      "cell_type": "code",
      "source": [
        "# Their solution\n",
        "vals = np.random.randn(20)\n",
        "locs = np.random.choice(np.arange(100), size=20, replace=False, p=None)\n",
        "field.ravel()[locs] = vals # ravel flattens input array and returns a view of it, so you can set values and the underlying object will still be modified\n",
        "field"
      ],
      "metadata": {
        "id": "wFUFGhT3QKJr",
        "outputId": "800af27e-25cc-4aa1-fa6f-154c9ed73ee2",
        "colab": {
          "base_uri": "https://localhost:8080/"
        }
      },
      "execution_count": 17,
      "outputs": [
        {
          "output_type": "execute_result",
          "data": {
            "text/plain": [
              "array([[ 0.93151071,  0.        ,  0.5680783 ,  0.        ,  0.30876366,\n",
              "         0.69456214,  0.        , -2.44608725, -0.94585653,  0.24936591],\n",
              "       [ 1.32345993,  1.06489887,  0.        ,  0.92522712,  1.55744627,\n",
              "         0.        ,  0.        , -0.01226578,  0.85179737,  0.58168681],\n",
              "       [ 0.        ,  2.49857089,  0.        ,  0.32368401, -0.50980748,\n",
              "        -2.88477052,  0.0334835 , -0.64017124,  0.        ,  0.        ],\n",
              "       [ 0.05374018,  0.        ,  1.25300026, -0.25584222, -0.2546681 ,\n",
              "         0.        , -1.09528028,  0.        ,  0.        ,  1.50461813],\n",
              "       [-0.66539701,  0.15585237,  0.        ,  0.        ,  0.        ,\n",
              "         0.38713284, -1.27778988, -0.37684106,  1.16149305,  1.006292  ],\n",
              "       [ 0.        , -0.34041755,  0.29506869, -0.10127136,  1.50846907,\n",
              "        -0.40112182,  0.98896097,  0.055799  ,  0.        , -0.3223298 ],\n",
              "       [-0.0712444 ,  0.        ,  1.95287944, -0.216158  ,  0.87011561,\n",
              "        -0.75921839,  0.36434626, -0.57937293,  1.19785303, -0.48484888],\n",
              "       [ 0.89280865,  2.86450343, -0.1916966 ,  0.        , -0.63741589,\n",
              "         0.        ,  0.        ,  0.        , -2.80339275,  0.17494848],\n",
              "       [ 0.62270506, -0.68561001,  0.        , -0.41958277,  0.        ,\n",
              "         0.        ,  1.41876826,  0.        , -0.19439544,  0.        ],\n",
              "       [ 1.43711446,  1.36759295,  0.15646079, -0.48187369, -1.95072936,\n",
              "        -0.23834911, -0.47005042,  2.01573047, -1.18896625,  0.        ]])"
            ]
          },
          "metadata": {},
          "execution_count": 17
        }
      ]
    },
    {
      "cell_type": "code",
      "source": [],
      "metadata": {
        "id": "7iTZ2_-SQ7id"
      },
      "execution_count": null,
      "outputs": []
    }
  ]
}