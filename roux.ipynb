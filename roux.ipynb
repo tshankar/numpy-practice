{
  "nbformat": 4,
  "nbformat_minor": 0,
  "metadata": {
    "colab": {
      "provenance": [],
      "include_colab_link": true
    },
    "kernelspec": {
      "name": "python3",
      "display_name": "Python 3"
    },
    "language_info": {
      "name": "python"
    }
  },
  "cells": [
    {
      "cell_type": "markdown",
      "metadata": {
        "id": "view-in-github",
        "colab_type": "text"
      },
      "source": [
        "<a href=\"https://colab.research.google.com/github/tshankar/numpy-practice/blob/main/roux.ipynb\" target=\"_parent\"><img src=\"https://colab.research.google.com/assets/colab-badge.svg\" alt=\"Open In Colab\"/></a>"
      ]
    },
    {
      "cell_type": "markdown",
      "source": [
        "[![PracticeProbs](https://d33wubrfki0l68.cloudfront.net/b6800cc830e3fd5a3a4c3d9cfb1137e6a4c15c77/ec467/assets/images/transparent-1.png)](https://www.practiceprobs.com/)"
      ],
      "metadata": {
        "id": "t1VEtnSjbu-d"
      }
    },
    {
      "cell_type": "markdown",
      "source": [
        "# [Roux](https://www.practiceprobs.com/problemsets/python-numpy/beginner/roux/)\n",
        "\n",
        "Define a *roux* array as a 1-D array such that, when it's reversed, it represents the sequence of square numbers 1, 4, 9, 16, ... with 0s interwoven between them.\n",
        "\n",
        "**Examples**  \n",
        "\n",
        "```\n",
        "# roux array of length 5\n",
        "[9 0 4 0 1]\n",
        "```\n",
        "\n",
        "```\n",
        "# roux array of length 8\n",
        "[ 0 16  0  9  0  4  0  1]\n",
        "```\n",
        "\n",
        "```\n",
        "# roux array of length 12\n",
        "[ 0 36  0 25  0 16  0  9  0  4  0  1]\n",
        "```\n",
        "\n",
        "**Note**: odd-length arrays begin with a square number while even-length arrays begin with a zero.\n",
        "\n",
        "Implement a function called `make_roux(n)` that inputs `n`, the desired size of the array, and outputs the corresponding roux array. Then test it on the examples above."
      ],
      "metadata": {
        "id": "M6yShpelZy-I"
      }
    },
    {
      "cell_type": "markdown",
      "source": [
        "---"
      ],
      "metadata": {
        "id": "h7D8d-J5cela"
      }
    },
    {
      "cell_type": "code",
      "source": [
        "import numpy as np\n",
        "def make_roux(n):\n",
        "    \"\"\"returns a roux array of length n\"\"\"\n",
        "\n",
        "    roux = np.zeros(n)\n",
        "    num_squares = n // 2 + 1 if n % 2 != 0 else n // 2\n",
        "    squares = [i ** 2 for i in range(1, num_squares + 1)]\n",
        "    square_indices = [i for i in range(0, n, 2)]\n",
        "    roux[square_indices] = squares\n",
        "\n",
        "    return roux[::-1]\n"
      ],
      "metadata": {
        "id": "CWwTWfYCa4k0"
      },
      "execution_count": 6,
      "outputs": []
    },
    {
      "cell_type": "markdown",
      "source": [
        "## [See our solution!](https://www.practiceprobs.com/problemsets/python-numpy/beginner/roux/solution/)"
      ],
      "metadata": {
        "id": "bF3kvEc4a4It"
      }
    },
    {
      "cell_type": "code",
      "source": [],
      "metadata": {
        "id": "248cf_8uRf96"
      },
      "execution_count": null,
      "outputs": []
    },
    {
      "cell_type": "code",
      "source": [],
      "metadata": {
        "id": "RQEZJHewRfgA"
      },
      "execution_count": null,
      "outputs": []
    }
  ]
}