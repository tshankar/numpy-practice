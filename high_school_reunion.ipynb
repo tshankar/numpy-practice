{
  "nbformat": 4,
  "nbformat_minor": 0,
  "metadata": {
    "colab": {
      "provenance": [],
      "include_colab_link": true
    },
    "kernelspec": {
      "name": "python3",
      "display_name": "Python 3"
    },
    "language_info": {
      "name": "python"
    }
  },
  "cells": [
    {
      "cell_type": "markdown",
      "metadata": {
        "id": "view-in-github",
        "colab_type": "text"
      },
      "source": [
        "<a href=\"https://colab.research.google.com/github/tshankar/numpy-practice/blob/main/high_school_reunion.ipynb\" target=\"_parent\"><img src=\"https://colab.research.google.com/assets/colab-badge.svg\" alt=\"Open In Colab\"/></a>"
      ]
    },
    {
      "cell_type": "markdown",
      "source": [
        "[![PracticeProbs](https://d33wubrfki0l68.cloudfront.net/b6800cc830e3fd5a3a4c3d9cfb1137e6a4c15c77/ec467/assets/images/transparent-1.png)](https://www.practiceprobs.com/)"
      ],
      "metadata": {
        "id": "t1VEtnSjbu-d"
      }
    },
    {
      "cell_type": "markdown",
      "source": [
        "# [High School Reunion](https://www.practiceprobs.com/problemsets/python-numpy/beginner/high-school-reunion/)\n",
        "\n",
        "With your high school reunion fast approaching, you decide to get in shape and lose some weight . You record your weight every day for five weeks starting on a Monday.\n",
        "\n",
        "Given these daily weights, build an array with your average weight per weekend."
      ],
      "metadata": {
        "id": "M6yShpelZy-I"
      }
    },
    {
      "cell_type": "code",
      "source": [
        "import numpy as np\n",
        "\n",
        "dailywts = 185 - np.arange(5*7)/5\n",
        "\n",
        "print(dailywts)\n",
        "# [185.  184.8 184.6 184.4 184.2 184.  183.8 183.6 183.4 183.2 183.  182.8\n",
        "#  182.6 182.4 182.2 182.  181.8 181.6 181.4 181.2 181.  180.8 180.6 180.4\n",
        "#  180.2 180.  179.8 179.6 179.4 179.2 179.  178.8 178.6 178.4 178.2]"
      ],
      "metadata": {
        "id": "ZlHN2R3QaPX3",
        "outputId": "8ba8f02c-3abd-4e24-e4cd-6a05148b61ad",
        "colab": {
          "base_uri": "https://localhost:8080/"
        }
      },
      "execution_count": 15,
      "outputs": [
        {
          "output_type": "stream",
          "name": "stdout",
          "text": [
            "[185.  184.8 184.6 184.4 184.2 184.  183.8 183.6 183.4 183.2 183.  182.8\n",
            " 182.6 182.4 182.2 182.  181.8 181.6 181.4 181.2 181.  180.8 180.6 180.4\n",
            " 180.2 180.  179.8 179.6 179.4 179.2 179.  178.8 178.6 178.4 178.2]\n"
          ]
        }
      ]
    },
    {
      "cell_type": "markdown",
      "source": [
        "---"
      ],
      "metadata": {
        "id": "h7D8d-J5cela"
      }
    },
    {
      "cell_type": "code",
      "source": [
        "# Get weekend weights\n",
        "weekend_wts = np.array(list(map(lambda x: x[5:7], dailywts.reshape(5,7))))\n",
        "avg_wts = np.mean(weekend_wts, axis=1)\n",
        "avg_wts"
      ],
      "metadata": {
        "id": "TBjgC4-TvJ52",
        "outputId": "30007253-4e4d-4fc1-a60d-ac4de887bf95",
        "colab": {
          "base_uri": "https://localhost:8080/"
        }
      },
      "execution_count": 17,
      "outputs": [
        {
          "output_type": "execute_result",
          "data": {
            "text/plain": [
              "array([183.9, 182.5, 181.1, 179.7, 178.3])"
            ]
          },
          "metadata": {},
          "execution_count": 17
        }
      ]
    },
    {
      "cell_type": "code",
      "source": [
        "# Their solution\n",
        "(dailywts[5::7] + dailywts[6::7]) / 2"
      ],
      "metadata": {
        "id": "JoQyBGAazNr-",
        "outputId": "9291b053-299f-433f-a25a-630b50e3338e",
        "colab": {
          "base_uri": "https://localhost:8080/"
        }
      },
      "execution_count": 19,
      "outputs": [
        {
          "output_type": "execute_result",
          "data": {
            "text/plain": [
              "array([183.9, 182.5, 181.1, 179.7, 178.3])"
            ]
          },
          "metadata": {},
          "execution_count": 19
        }
      ]
    },
    {
      "cell_type": "markdown",
      "source": [
        "## [See our solution!](https://www.practiceprobs.com/problemsets/python-numpy/beginner/high-school-reunion/solution/)"
      ],
      "metadata": {
        "id": "bF3kvEc4a4It"
      }
    }
  ]
}